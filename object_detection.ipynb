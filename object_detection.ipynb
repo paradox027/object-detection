{
 "cells": [
  {
   "cell_type": "code",
   "execution_count": 1,
   "id": "e9744cf2",
   "metadata": {},
   "outputs": [
    {
     "name": "stdout",
     "output_type": "stream",
     "text": [
      "WARNING:tensorflow:From e:\\ANACONDA\\Lib\\site-packages\\tf_keras\\src\\losses.py:2976: The name tf.losses.sparse_softmax_cross_entropy is deprecated. Please use tf.compat.v1.losses.sparse_softmax_cross_entropy instead.\n",
      "\n",
      "WARNING:tensorflow:From e:\\ANACONDA\\Lib\\site-packages\\tensorflow_hub\\resolver.py:120: The name tf.gfile.MakeDirs is deprecated. Please use tf.io.gfile.makedirs instead.\n",
      "\n"
     ]
    },
    {
     "name": "stderr",
     "output_type": "stream",
     "text": [
      "WARNING:tensorflow:From e:\\ANACONDA\\Lib\\site-packages\\tensorflow_hub\\resolver.py:120: The name tf.gfile.MakeDirs is deprecated. Please use tf.io.gfile.makedirs instead.\n",
      "\n"
     ]
    },
    {
     "name": "stdout",
     "output_type": "stream",
     "text": [
      "WARNING:tensorflow:From e:\\ANACONDA\\Lib\\site-packages\\tensorflow_hub\\module_v2.py:126: The name tf.saved_model.load_v2 is deprecated. Please use tf.compat.v2.saved_model.load instead.\n",
      "\n"
     ]
    },
    {
     "name": "stderr",
     "output_type": "stream",
     "text": [
      "WARNING:tensorflow:From e:\\ANACONDA\\Lib\\site-packages\\tensorflow_hub\\module_v2.py:126: The name tf.saved_model.load_v2 is deprecated. Please use tf.compat.v2.saved_model.load instead.\n",
      "\n"
     ]
    },
    {
     "name": "stdout",
     "output_type": "stream",
     "text": [
      "INFO:tensorflow:Saver not created because there are no variables in the graph to restore\n"
     ]
    },
    {
     "name": "stderr",
     "output_type": "stream",
     "text": [
      "INFO:tensorflow:Saver not created because there are no variables in the graph to restore\n"
     ]
    },
    {
     "data": {
      "text/plain": [
       "True"
      ]
     },
     "execution_count": 1,
     "metadata": {},
     "output_type": "execute_result"
    }
   ],
   "source": [
    "import tensorflow as tf\n",
    "import tensorflow_hub as hub\n",
    "import numpy as np\n",
    "import cv2\n",
    "import matplotlib.pyplot as plt\n",
    "import random \n",
    "import math\n",
    "#Load Pre-trained Model\n",
    "module_handle =hub.load(\"https://tfhub.dev/google/faster_rcnn/openimages_v4/inception_resnet_v2/1\").signatures['default']\n",
    "#Define Color Dictionary\n",
    "colorcodes={}\n",
    "#Ye function ek bounding box draw karta hai\n",
    "def drawbox(image,ymin,xmin,ymax,xmax,namewithscore,color):\n",
    "    #Isme image ki height aur width ke hisaab se bounding box ke coordinates\n",
    "    im_height,im_with,_ =image.shape\n",
    "    left,top,right,bottom=int(xmin*im_with),int(ymin*im_height),int(xmax*im_with),int(ymax*im_height)\n",
    "    #Ye line bounding box draw karti hai specified coordinates par aur color ke saath.\n",
    "    cv2.rectangle(image,(left,top),(right,bottom),color = color,thickness=1)\n",
    "    #Yahan text aur bounding box ki thickness aur scale ko calculate kar rahe hain based on bounding box size.\n",
    "    FONT_SCALE=5e-3\n",
    "    THICKNESS_SCALE=4e-3\n",
    "    width=right-left\n",
    "    height=bottom-top\n",
    "    TEXT_Y_OFFSET_SCALE=1e-2\n",
    "    #Draw Filled Rectangle for Text Background\n",
    "    cv2.rectangle(image,(left,top-int(height*6e-2)),(right,top),color=color,thickness=-1)\n",
    "    #Add Text (Object Name and Score)\n",
    "    cv2.putText(image,namewithscore,\n",
    "                (left,top-int(height*TEXT_Y_OFFSET_SCALE)),\n",
    "                fontFace=cv2.FONT_HERSHEY_PLAIN,\n",
    "                fontScale=min(width,height)*FONT_SCALE,\n",
    "                thickness= math.ceil(min(width, height)*THICKNESS_SCALE), \n",
    "                color=(255,255,255))\n",
    "def drow(image,boxes,classnames,scores):\n",
    "    boxesidx=tf.image.non_max_suppression(boxes,scores,max_output_size=20,score_threshold=0.2)\n",
    "    for i in boxesidx:\n",
    "        ymin,xmin,ymax,xmax=tuple(boxes[i])\n",
    "        classname =classnames[i].decode(\"ascii\")\n",
    "        if classname in colorcodes.keys():\n",
    "            color=colorcodes[classname]\n",
    "        else:\n",
    "            c1=random.randrange(0,255,30)\n",
    "            c2=random.randrange(0,255,25)\n",
    "            c3=random.randrange(0,255,50)\n",
    "            colorcodes.update({classname:(c1,c2,c3)})\n",
    "            color=colorcodes[classname]\n",
    "        namewithscore=\" {}:{}\".format(classname,int(100*scores[i]))\n",
    "        drawbox(image,ymin,xmin,ymax,xmax,namewithscore,color)\n",
    "    \n",
    "    return image\n",
    "image = cv2.imread(\"traf.jpg\")\n",
    "image2= cv2.cvtColor(image,cv2.COLOR_BGR2RGB)\n",
    "converted_img=tf.image.convert_image_dtype(image2,tf.float32)[tf.newaxis,...]\n",
    "\n",
    "detection=module_handle(converted_img)\n",
    "\n",
    "result={key:value.numpy() for key,value in detection.items()}\n",
    "imagewithboxes=drow(image,result[\"detection_boxes\"],result['detection_class_entities'],result['detection_scores'])\n",
    "\n",
    "cv2.imwrite(\"traf1.jpg\",imagewithboxes)"
   ]
  }
 ],
 "metadata": {
  "kernelspec": {
   "display_name": "base",
   "language": "python",
   "name": "python3"
  },
  "language_info": {
   "codemirror_mode": {
    "name": "ipython",
    "version": 3
   },
   "file_extension": ".py",
   "mimetype": "text/x-python",
   "name": "python",
   "nbconvert_exporter": "python",
   "pygments_lexer": "ipython3",
   "version": "3.12.7"
  }
 },
 "nbformat": 4,
 "nbformat_minor": 5
}
